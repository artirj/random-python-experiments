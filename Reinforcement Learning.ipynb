{
 "cells": [
  {
   "cell_type": "markdown",
   "metadata": {
    "deletable": true,
    "editable": true
   },
   "source": [
    "# Reinforcement learning"
   ]
  },
  {
   "cell_type": "code",
   "execution_count": 3,
   "metadata": {
    "collapsed": false,
    "deletable": true,
    "editable": true
   },
   "outputs": [],
   "source": [
    "#import keras\n",
    "import numpy as np\n",
    "import matplotlib.pyplot as plt\n",
    "import tqdm\n",
    "from tqdm import tqdm_notebook\n",
    "%matplotlib inline"
   ]
  },
  {
   "cell_type": "markdown",
   "metadata": {
    "deletable": true,
    "editable": true
   },
   "source": [
    "## Let us define a simple game"
   ]
  },
  {
   "cell_type": "code",
   "execution_count": 249,
   "metadata": {
    "collapsed": false,
    "deletable": true,
    "editable": true,
    "scrolled": false
   },
   "outputs": [
    {
     "data": {
      "application/vnd.jupyter.widget-view+json": {
       "model_id": "661cf5077dc74c728371c52a0a0b6151"
      }
     },
     "metadata": {},
     "output_type": "display_data"
    },
    {
     "name": "stdout",
     "output_type": "stream",
     "text": [
      "\n",
      "[[  -1e+00   -1e+03   -1e+03   -1e+03    0e+00]\n",
      " [  -1e+03   -1e+03   -1e+03   -1e+00    0e+00]\n",
      " [  -1e+00   -1e+00   -1e+00   -1e+00    0e+00]\n",
      " [  -1e+00   -1e+03   -1e+00   -1e+03    0e+00]\n",
      " [  -1e+03   -1e+00   -1e+03   -1e+00    0e+00]\n",
      " [  -1e+00   -1e+03   -1e+00   -1e+00    0e+00]\n",
      " [  -1e+00   -1e+00   -1e+00   -1e+03    0e+00]\n",
      " [   0e+00   -1e-01   -1e+03    0e+00    3e+04]\n",
      " [  -1e+04   -9e+03   -9e+03   -1e+04   -1e+04]]\n"
     ]
    },
    {
     "data": {
      "text/plain": [
       "[<matplotlib.lines.Line2D at 0x7ff7ad6d25f8>]"
      ]
     },
     "execution_count": 249,
     "metadata": {},
     "output_type": "execute_result"
    },
    {
     "data": {
      "image/png": "[encoded data removed]",
      "text/plain": [
       "<matplotlib.figure.Figure at 0x7ff7ad3c6a58>"
      ]
     },
     "metadata": {},
     "output_type": "display_data"
    }
   ],
   "source": [
    "# http://outlace.com/Reinforcement-Learning-Part-1/\n",
    "#There is a series of connected paths that lead to a Goal (G). Player begins in\n",
    "#State cero (S). Four actions are available: up, down, left, right, and stay.\n",
    "#There are two paths to the goal\n",
    "np.set_printoptions(precision=0)\n",
    "N=-10000\n",
    "W=10000\n",
    "#      G\n",
    "#     |\n",
    "#   0-0-0\n",
    "#   |  |\n",
    "# 0-0-0\n",
    "#  |\n",
    "#  S\n",
    "R=np.array([\n",
    "            [-1,N,N,N,0],\n",
    "            [N,N,N,-1,0],\n",
    "            [-1,-1,-1,-1,0],\n",
    "            [-1,N,-1,N,0],\n",
    "            [N,-1,N,-1,0],\n",
    "            [-1,N,-1,-1,0],\n",
    "            [-1,-1,-1,N,0],\n",
    "            [N,-1,N,N,W],\n",
    "            [N,N,N,N,N]],dtype=np.float32)\n",
    "\n",
    "Q=np.zeros_like(R,dtype=np.float32)\n",
    "T=np.array([\n",
    "            [2,8,8,8,0],\n",
    "            [8,8,8,2,1],\n",
    "            [4,0,1,3,2],\n",
    "            [6,8,2,8,3],\n",
    "            [8,2,8,5,4],\n",
    "            [7,8,4,6,5],\n",
    "            [8,2,5,8,6],\n",
    "            [8,5,8,8,7],\n",
    "            [8,8,8,8,8]])\n",
    "def get_next_state(state,action):\n",
    "    return T[state,action]\n",
    "def softmax(a,T):\n",
    "    return np.exp((a-np.max(a))/T)/np.exp((a-np.max(a))/T).sum()\n",
    "def temperature(i):\n",
    "    return 100*np.exp(-1*i)+100\n",
    "def act(state,i):    \n",
    "    return np.random.choice(5,p=softmax(Q[state,:],temperature(i)))\n",
    "def update_Q(state,action,next_state):\n",
    "    Q[state,action]+=alpha*(R[state,action]+gamma*np.max(Q[state,:])-Q[state,action])\n",
    "def play(n=10):\n",
    "    reward=0.\n",
    "    for l in range(n):\n",
    "        state2=0\n",
    "        for k in range(its): \n",
    "            ac=act(state2,temperature(i))\n",
    "            reward+=R[state2,ac]\n",
    "            state2=get_next_state(state2,ac)\n",
    "            if((state2==7 and ac==4)  or (state2==8)):break\n",
    "    return reward/n\n",
    "gamma=0.8\n",
    "alpha=0.1\n",
    "episode_n=100\n",
    "its=9999\n",
    "Q_update=0\n",
    "plays=[]\n",
    "for i in tqdm_notebook(range(episode_n)):\n",
    "    state=0\n",
    "    for j in range(its):\n",
    "        action=act(state,temperature(i))        \n",
    "        next_state=get_next_state(state,action)        \n",
    "        update_Q(state,action,next_state)\n",
    "        if((state==7 and action==4)  or (state==8)):break\n",
    "        state=next_state        \n",
    "    plays.append(play())\n",
    "    \n",
    "print(Q)\n",
    "plt.plot(plays)    "
   ]
  },
  {
   "cell_type": "markdown",
   "metadata": {},
   "source": [
    "## Let's try now a neural net to act as the Q table"
   ]
  }
 ],
 "metadata": {
  "kernelspec": {
   "display_name": "Python [conda root]",
   "language": "python",
   "name": "conda-root-py"
  },
  "language_info": {
   "codemirror_mode": {
    "name": "ipython",
    "version": 3
   },
   "file_extension": ".py",
   "mimetype": "text/x-python",
   "name": "python",
   "nbconvert_exporter": "python",
   "pygments_lexer": "ipython3",
   "version": "3.5.3"
  }
 },
 "nbformat": 4,
 "nbformat_minor": 2
}

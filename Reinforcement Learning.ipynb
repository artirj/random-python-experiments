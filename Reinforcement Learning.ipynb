{
 "cells": [
  {
   "cell_type": "markdown",
   "metadata": {
    "deletable": true,
    "editable": true
   },
   "source": [
    "# Reinforcement learning"
   ]
  },
  {
   "cell_type": "code",
   "execution_count": 1,
   "metadata": {
    "collapsed": false,
    "deletable": true,
    "editable": true
   },
   "outputs": [],
   "source": [
    "#import keras\n",
    "import numpy as np\n",
    "import matplotlib.pyplot as plt\n",
    "import tqdm\n",
    "from tqdm import tqdm\n",
    "import seaborn as sns\n",
    "%matplotlib inline"
   ]
  },
  {
   "cell_type": "markdown",
   "metadata": {
    "deletable": true,
    "editable": true
   },
   "source": [
    "## Let us define a simple game"
   ]
  },
  {
   "cell_type": "code",
   "execution_count": 248,
   "metadata": {
    "collapsed": false,
    "deletable": true,
    "editable": true,
    "scrolled": false
   },
   "outputs": [
    {
     "name": "stderr",
     "output_type": "stream",
     "text": [
      "100%|██████████| 1000/1000 [00:00<00:00, 1682.66it/s]\n",
      "100%|██████████| 1000/1000 [00:10<00:00, 98.64it/s]\n"
     ]
    },
    {
     "name": "stdout",
     "output_type": "stream",
     "text": [
      "[[ 3.5 -10.  -10.  -10.   3.1]\n",
      " [-10.  -10.  -10.   3.5  3.1]\n",
      " [ 3.9  3.1  3.1  3.5  3.5]\n",
      " [ 3.9 -10.   3.5 -10.   3.5]\n",
      " [-10.   3.5 -10.   4.3  3.9]\n",
      " [ 4.8 -10.   3.9  3.9  4.3]\n",
      " [-9.   3.5  4.3 -10.   3.9]\n",
      " [-10.   4.3 -10.  -10.   5.3]\n",
      " [-10.  -10.  -10.  -10.  -10. ]]\n",
      "[[ -6.7e-03  -1.0e+01  -1.0e+01  -1.0e+01  -5.5e-03]\n",
      " [ -1.0e+01  -1.0e+01  -1.0e+01  -9.7e-03  -4.5e-03]\n",
      " [ -7.2e-03  -7.8e-03  -8.1e-01  -8.1e+00  -9.1e-03]\n",
      " [ -7.5e-03  -1.0e+01  -1.3e-02  -1.0e+01  -7.2e-03]\n",
      " [ -1.0e+01  -1.5e-02  -1.0e+01  -8.9e-01  -7.3e-03]\n",
      " [ -8.1e-05  -1.0e+01  -8.8e-02  -8.1e+00  -1.5e-04]\n",
      " [ -9.0e+00  -7.4e-02  -6.8e-02  -1.0e+01  -2.4e-03]\n",
      " [ -1.0e+01  -8.2e-02  -1.0e+01  -1.0e+01   0.0e+00]\n",
      " [ -1.0e+01  -1.0e+01  -1.0e+01  -1.0e+01  -1.0e+01]]\n"
     ]
    },
    {
     "data": {
      "image/png": "[encoded data removed]",
      "text/plain": [
       "<matplotlib.figure.Figure at 0x7fbe4797aac8>"
      ]
     },
     "metadata": {},
     "output_type": "display_data"
    }
   ],
   "source": [
    "# http://outlace.com/Reinforcement-Learning-Part-1/\n",
    "#There is a series of connected paths that lead to a Goal (G). Player begins in\n",
    "#State cero (S). Four actions are available: up, down, left, right, and stay.\n",
    "#There are two paths to the goal\n",
    "np.set_printoptions(precision=1)\n",
    "N=-1\n",
    "W=1\n",
    "#      G\n",
    "#     |\n",
    "#   0-0-0\n",
    "#   |  |\n",
    "# 0-0-0\n",
    "#  |\n",
    "#  S\n",
    "R=np.array([\n",
    "            [0,N,N,N,0],\n",
    "            [N,N,N,0,0],\n",
    "            [0,0,0,0,0],\n",
    "            [0,N,0,N,0],\n",
    "            [N,0,N,0,0],\n",
    "            [0,N,0,0,0],\n",
    "            [0,0,0,N,0],\n",
    "            [N,0,N,N,W],\n",
    "            [N,N,N,N,N]],dtype=np.float32)\n",
    "\n",
    "\n",
    "T=np.array([\n",
    "            [2,8,8,8,0],\n",
    "            [8,8,8,2,1],\n",
    "            [4,0,1,3,2],\n",
    "            [6,8,2,8,3],\n",
    "            [8,2,8,5,4],\n",
    "            [7,8,4,6,5],\n",
    "            [8,2,5,8,6],\n",
    "            [8,5,8,8,7],\n",
    "            [8,8,8,8,8]])\n",
    "# T=np.array([[2,5,5,5,0],\n",
    "#           [5,5,5,2,1],\n",
    "#           [4,0,1,3,2],\n",
    "#           [5,5,2,4,3],\n",
    "#           [5,2,5,5,4],\n",
    "#           [5,5,5,5,5]])\n",
    "# R=np.array([[0,N,N,N,0],\n",
    "#           [N,N,N,0,0],\n",
    "#           [0,0,0,0,0],\n",
    "#           [N,N,0,0,0],\n",
    "#           [N,0,0,0,W],\n",
    "#           [N,N,N,N,N]])\n",
    "win_state=7\n",
    "death_state=8\n",
    "\n",
    "# win_state=4\n",
    "# death_state=5\n",
    "Q=np.zeros_like(R,dtype=np.float32)\n",
    "G=False\n",
    "def get_next_state(state,action):\n",
    "    return T[state,action]\n",
    "def softmax(a,T=1):\n",
    "    return np.exp((a-np.max(a))/T)/np.exp((a-np.max(a))/T).sum()\n",
    "def temperature(i,greedy=G):\n",
    "    if(greedy==0):\n",
    "        return 100*np.exp(-0.5*i)+1e-2\n",
    "    else:\n",
    "        return -0.9*np.exp(-0.1*i)+1\n",
    "def act(Qmat,state,i,greedy=G):\n",
    "    if greedy==0:\n",
    "        return np.random.choice(5,p=softmax(Qmat[state,:],temperature(i)))\n",
    "    else:\n",
    "        return np.random.choice([np.argmax(Qmat[state,:]),np.random.randint(5)],p=[temperature(i),1-temperature(i)])\n",
    "def update_Q(Qmat,state,action,next_state,i,qlearn=True):\n",
    "    on=np.max(Qmat[next_state,:]) if qlearn else Qmat[next_state,act(Qmat,state,i)]\n",
    "    Qmat[state,action]+=alpha*(R[state,action]+gamma*on-Qmat[state,action])\n",
    "    return Qmat\n",
    "def play(Qmat,n=1):\n",
    "    reward=0.\n",
    "    for l in range(n):\n",
    "        state=0\n",
    "        for k in range(its): \n",
    "            ac=act(Qmat,state,100)\n",
    "            reward+=R[state,ac]\n",
    "            state=get_next_state(state,ac)\n",
    "            if((state==win_state and ac==4)  or (state==death_state)):break\n",
    "    return reward/n\n",
    "gamma=0.9\n",
    "alpha=0.9\n",
    "episode_n=1000\n",
    "its=200\n",
    "Q_2=np.zeros_like(Q)\n",
    "\n",
    "plays2=[]\n",
    "def iterate(Qmat,qlearn=True):\n",
    "    plays=[]\n",
    "    for i in tqdm(range(episode_n)):\n",
    "        state=0\n",
    "        state=np.random.randint(5)\n",
    "        for j in range(its):\n",
    "            action=act(Qmat,state,temperature(i))\n",
    "            next_state=get_next_state(state,action)        \n",
    "            Qmat=update_Q(Qmat,state,action,next_state,i,qlearn=qlearn)\n",
    "            if((state==win_state and action==4)  or (state==death_state)):break\n",
    "            state=next_state        \n",
    "        plays.append(play(Qmat))\n",
    "    return Qmat,plays\n",
    "Q,plays=iterate(Q,qlearn=True)\n",
    "Q_2,plays2=iterate(Q_2,qlearn=False)\n",
    "plt.figure(figsize=(12,6))\n",
    "plt.subplot(121)\n",
    "plt.plot(plays)\n",
    "plt.title('Q-learning')\n",
    "plt.subplot(122)\n",
    "plt.plot(plays2)\n",
    "plt.title('SARSA')\n",
    "print(Q)   \n",
    "print(Q_2)\n",
    "\n"
   ]
  },
  {
   "cell_type": "markdown",
   "metadata": {
    "collapsed": false,
    "deletable": true,
    "editable": true
   },
   "source": [
    "SARSA is more conservative, and it will work better if the policy followed is the actual policy being used during learning. Q-learning will learn the optimal policy, so an argmax play will be optimal with it."
   ]
  },
  {
   "cell_type": "code",
   "execution_count": 198,
   "metadata": {
    "collapsed": false,
    "deletable": true,
    "editable": true
   },
   "outputs": [
    {
     "data": {
      "text/plain": [
       "0.99995914006321374"
      ]
     },
     "execution_count": 198,
     "metadata": {},
     "output_type": "execute_result"
    }
   ],
   "source": [
    "temperature(100,greedy=1)"
   ]
  },
  {
   "cell_type": "code",
   "execution_count": 180,
   "metadata": {
    "collapsed": false,
    "deletable": true,
    "editable": true
   },
   "outputs": [
    {
     "name": "stdout",
     "output_type": "stream",
     "text": [
      "[[ 0. -1. -1. -1.  0.]\n",
      " [-1. -1. -1.  0.  0.]\n",
      " [ 0.  0.  0.  0.  0.]\n",
      " [-1. -1.  0.  0.  0.]\n",
      " [ 8.  9.  9.  9. 10.]\n",
      " [-10. -10. -10. -10. -10.]]\n",
      "[[ 0 -1 -1 -1  0]\n",
      " [-1 -1 -1  0  0]\n",
      " [ 0  0  0  0  0]\n",
      " [-1 -1  0  0  0]\n",
      " [-1  0  0  0  1]\n",
      " [-1 -1 -1 -1 -1]]\n"
     ]
    }
   ],
   "source": [
    "print(Q)\n",
    "print(R)"
   ]
  },
  {
   "cell_type": "markdown",
   "metadata": {
    "deletable": true,
    "editable": true
   },
   "source": [
    "## Let's play tic-tac-toe"
   ]
  },
  {
   "cell_type": "markdown",
   "metadata": {
    "deletable": true,
    "editable": true
   },
   "source": [
    "Now, we have more states. I will define a state by the numbers 0 (empty), 1(the machine's move), 2 (my move). Each turn, the machine will get a 9-vector and act. Reward if three in row."
   ]
  },
  {
   "cell_type": "code",
   "execution_count": null,
   "metadata": {
    "collapsed": true,
    "deletable": true,
    "editable": true
   },
   "outputs": [],
   "source": [
    "def three_in_row(state):\n",
    "    "
   ]
  }
 ],
 "metadata": {
  "kernelspec": {
   "display_name": "Python [conda root]",
   "language": "python",
   "name": "conda-root-py"
  },
  "language_info": {
   "codemirror_mode": {
    "name": "ipython",
    "version": 3
   },
   "file_extension": ".py",
   "mimetype": "text/x-python",
   "name": "python",
   "nbconvert_exporter": "python",
   "pygments_lexer": "ipython3",
   "version": "3.5.2"
  }
 },
 "nbformat": 4,
 "nbformat_minor": 2
}

{
 "cells": [
  {
   "cell_type": "markdown",
   "metadata": {
    "deletable": true,
    "editable": true
   },
   "source": [
    "# Reinforcement learning"
   ]
  },
  {
   "cell_type": "code",
   "execution_count": 3,
   "metadata": {
    "collapsed": false,
    "deletable": true,
    "editable": true
   },
   "outputs": [],
   "source": [
    "#import keras\n",
    "import numpy as np\n",
    "import matplotlib.pyplot as plt\n",
    "import tqdm\n",
    "from tqdm import tqdm_notebook\n",
    "%matplotlib inline"
   ]
  },
  {
   "cell_type": "markdown",
   "metadata": {
    "deletable": true,
    "editable": true
   },
   "source": [
    "## Let us define a simple game"
   ]
  },
  {
   "cell_type": "code",
   "execution_count": 197,
   "metadata": {
    "collapsed": false,
    "deletable": true,
    "editable": true,
    "scrolled": false
   },
   "outputs": [
    {
     "data": {
      "application/vnd.jupyter.widget-view+json": {
       "model_id": "d521f650fe0c4205b55e4045a4de51cf"
      }
     },
     "metadata": {},
     "output_type": "display_data"
    },
    {
     "name": "stdout",
     "output_type": "stream",
     "text": [
      "\n",
      "[[   2e+04   -1e+04   -1e+04   -5e+03    0e+00]\n",
      " [  -1e+04   -5e+03   -7e+03    3e+04    0e+00]\n",
      " [   7e+04   -1e+00   -1e+00   -9e-01    0e+00]\n",
      " [  -5e+03   -1e+04    2e+04   -7e+03    0e+00]\n",
      " [  -1e+04   -1e+00   -7e+03    9e+04    0e+00]\n",
      " [   1e+05   -7e+03   -9e-01   -9e-01    0e+00]\n",
      " [  -2e+03   -5e+03    6e+04   -1e+04    0e+00]\n",
      " [  -7e+03   -8e-01   -5e+03    0e+00    1e+05]\n",
      " [  -2e+04   -2e+04   -1e+04   -1e+04   -1e+04]]\n"
     ]
    },
    {
     "data": {
      "text/plain": [
       "[<matplotlib.lines.Line2D at 0x7ff7ae4dd828>]"
      ]
     },
     "execution_count": 197,
     "metadata": {},
     "output_type": "execute_result"
    },
    {
     "data": {
      "image/png": "[encoded data removed]",
      "text/plain": [
       "<matplotlib.figure.Figure at 0x7ff7ae502dd8>"
      ]
     },
     "metadata": {},
     "output_type": "display_data"
    }
   ],
   "source": [
    "# http://outlace.com/Reinforcement-Learning-Part-1/\n",
    "np.set_printoptions(precision=0)\n",
    "N=-9999\n",
    "W=10000\n",
    "#      G\n",
    "#     |\n",
    "#   0-0-0\n",
    "#   |\n",
    "# 0-0-0\n",
    "#  |\n",
    "#  0\n",
    "R=np.array([\n",
    "            [-1,N,N,N,0],\n",
    "            [N,N,N,-1,0],\n",
    "            [-1,-1,-1,-1,0],\n",
    "            [N,N,-1,N,0],\n",
    "            [N,-1,N,-1,0],\n",
    "            [-1,N,-1,-1,0],\n",
    "            [W,N,-1,N,0],\n",
    "            [N,-1,N,N,W],\n",
    "            [N,N,N,N,N]],dtype=np.float32)\n",
    "\n",
    "Q=np.zeros_like(R,dtype=np.float32)\n",
    "T=np.array([\n",
    "            [2,8,8,8,0],\n",
    "            [8,8,8,2,1],\n",
    "            [4,0,1,3,2],\n",
    "            [8,8,2,8,3],\n",
    "            [8,2,8,5,4],\n",
    "            [7,8,4,6,5],\n",
    "            [8,8,5,8,6],\n",
    "            [8,5,8,8,7],\n",
    "            [8,8,8,8,8]])\n",
    "def get_next_state(state,action):\n",
    "    return T[state,action]\n",
    "def softmax(a,T):\n",
    "    return np.exp((a-np.max(a))/T)/np.exp((a-np.max(a))/T).sum()\n",
    "\n",
    "def temperature(i):\n",
    "    return 500*np.exp(-1*i)+0.4\n",
    "\n",
    "def act(state,i):    \n",
    "    return np.random.choice(5,p=softmax(Q[state,:],temperature(i)))\n",
    "    #return np.argmax(Q[state,:])\n",
    "def play(n=20):\n",
    "    reward=0.\n",
    "    for l in range(n):\n",
    "        state2=0\n",
    "        for k in range(its): \n",
    "            ac=act(state2,temperature(i))\n",
    "            reward+=R[state2,ac]\n",
    "            state2=get_next_state(state2,ac)\n",
    "            if((state2==7 and ac==4)  or (state2==8)):break\n",
    "    return reward/n\n",
    "gamma=1\n",
    "alpha=0.5\n",
    "episode_n=40\n",
    "its=9999\n",
    "Q_update=0\n",
    "plays=[]\n",
    "itss=[] \n",
    "for i in tqdm_notebook(range(episode_n)):\n",
    "    #state=0\n",
    "    state=np.random.randint(8)\n",
    "    #print('Initial state: ',str(state))\n",
    "    for j in range(its):        \n",
    "       # print('New iteration')\n",
    "        action=act(state,temperature(i))        \n",
    "        next_state=get_next_state(state,action)        \n",
    "        Q[state,action]+=alpha*(R[state,action]+gamma*np.max(Q[next_state,:])-Q[state,action])\n",
    "        if((state==7 and action==4)  or (state==8)):break\n",
    "        state=next_state\n",
    "        \n",
    "    plays.append(play())\n",
    "    itss.append(j)\n",
    "    \n",
    "print(Q)\n",
    "plt.plot(plays)\n",
    "\n",
    "    "
   ]
  }
 ],
 "metadata": {
  "kernelspec": {
   "display_name": "Python [conda root]",
   "language": "python",
   "name": "conda-root-py"
  },
  "language_info": {
   "codemirror_mode": {
    "name": "ipython",
    "version": 3
   },
   "file_extension": ".py",
   "mimetype": "text/x-python",
   "name": "python",
   "nbconvert_exporter": "python",
   "pygments_lexer": "ipython3",
   "version": "3.5.3"
  }
 },
 "nbformat": 4,
 "nbformat_minor": 2
}
